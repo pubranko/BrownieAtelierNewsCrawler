{
 "cells": [
  {
   "cell_type": "code",
   "execution_count": null,
   "metadata": {},
   "outputs": [],
   "source": [
    "import json\n",
    "import os\n",
    "import sys\n",
    "import re\n",
    "from pprint import pprint\n",
    "current_dir = os.getcwd()\n",
    "current_dir = os.path.dirname(current_dir)\n",
    "sys.path.append(current_dir)\n",
    "print('=== current_dir ',current_dir)\n",
    "launch = os.path.join('..',current_dir, '.vscode', 'jupyter_env.json')\n",
    "print(launch)\n",
    "with open(launch, 'r') as f:\n",
    "    file = f.read()\n",
    "launch_json: dict = json.loads(file)\n",
    "\n",
    "for key,value in launch_json.items():\n",
    "    os.environ[key] = value"
   ]
  },
  {
   "cell_type": "code",
   "execution_count": null,
   "metadata": {},
   "outputs": [],
   "source": [
    "from __future__ import annotations\n",
    "from errno import EKEYEXPIRED\n",
    "import os\n",
    "import sys\n",
    "import logging\n",
    "import pickle\n",
    "import time\n",
    "import requests\n",
    "from logging import Logger\n",
    "from typing import Any, Union\n",
    "from bs4 import BeautifulSoup as bs4\n",
    "from bs4.element import Tag\n",
    "from bs4.element import ResultSet\n",
    "from datetime import datetime\n",
    "from dateutil.parser import parse\n",
    "\n",
    "from shared.settings import TIMEZONE\n",
    "from prefect_lib.scraper.title_scraper import scraper as title_scraper\n",
    "from prefect_lib.scraper.article_scraper import scraper as airticle_scraper\n",
    "from prefect_lib.scraper.publish_date_scraper import scraper as publish_date_scraper"
   ]
  },
  {
   "cell_type": "code",
   "execution_count": null,
   "metadata": {},
   "outputs": [],
   "source": [
    "'''単体テスト用の設定'''\n",
    "# test_url = 'https://mainichi.jp/articles/20220605/k00/00m/030/136000c'\n",
    "test_url = 'https://www.kyodo.co.jp/life/2024-10-30_3892147/'\n",
    "# test_url = 'https://www.kyodo.co.jp/life/2024-10-30_3892147/'\n",
    "# 通常サイト用\n",
    "request = requests.get(test_url)\n",
    "# bs4で解析\n",
    "soup: bs4 = bs4(request.text, 'lxml')\n"
   ]
  },
  {
   "cell_type": "code",
   "execution_count": null,
   "metadata": {},
   "outputs": [],
   "source": [
    "scrape_parm = [\n",
    "{\n",
    "    \"pattern\": 3,\n",
    "    \"css_selecter\": \"section[class=post_ttl] time[class=post_detail__date]\",\n",
    "    \"priority\": 3,\n",
    "    \"register_date\":\"2024-04-30T16:00:00+09:00\"\n",
    "},\n",
    "{\n",
    "    \"pattern\": 2,\n",
    "    \"css_selecter\": \"head > meta[name=\\\"iso-8601-publish-date\\\"]\",\n",
    "    \"priority\": 2,\n",
    "    \"register_date\":\"2022-04-16T14:00:00+09:00\"\n",
    "},\n",
    "{\n",
    "    \"pattern\": 1,\n",
    "    \"css_selecter\": \"head > meta[name=\\\"iso-8601-modified-date\\\"]\",\n",
    "    \"priority\": 1,\n",
    "    \"register_date\":\"2022-04-16T14:00:00+09:00\"\n",
    "}\n",
    "]\n"
   ]
  },
  {
   "cell_type": "code",
   "execution_count": null,
   "metadata": {},
   "outputs": [],
   "source": [
    "scrape_parm = sorted(scrape_parm, key=lambda d: d['pattern'], reverse=True)\n",
    "# pprint(f'=== scrape_parm === \\n{scrape_parm}')\n",
    "\n",
    "# result = airticle_scraper(\n",
    "#     soup=soup,\n",
    "#     scraper='article_scraper',\n",
    "#     scrape_parm=scrape_parm,\n",
    "# )\n",
    "result = publish_date_scraper(\n",
    "    soup=soup,\n",
    "    scraper='publish_date_scraper',\n",
    "    scrape_parm=scrape_parm,\n",
    ")\n",
    "pprint(f'=== result === \\n{result}')\n"
   ]
  }
 ],
 "metadata": {
  "kernelspec": {
   "display_name": ".venv",
   "language": "python",
   "name": "python3"
  },
  "language_info": {
   "codemirror_mode": {
    "name": "ipython",
    "version": 3
   },
   "file_extension": ".py",
   "mimetype": "text/x-python",
   "name": "python",
   "nbconvert_exporter": "python",
   "pygments_lexer": "ipython3",
   "version": "3.10.12"
  },
  "orig_nbformat": 4,
  "vscode": {
   "interpreter": {
    "hash": "00b0d91d220cd2884303810c80f143c1222c3c3704eaa0756460e122a00ee18a"
   }
  }
 },
 "nbformat": 4,
 "nbformat_minor": 2
}
